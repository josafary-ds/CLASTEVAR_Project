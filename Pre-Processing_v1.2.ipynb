{
 "cells": [
  {
   "cell_type": "code",
   "execution_count": null,
   "id": "67ca4c19",
   "metadata": {},
   "outputs": [],
   "source": [
    "# This version uses only power values and FAP as parameters to predictors, the earlier version used power, FAP and frequencies"
   ]
  },
  {
   "cell_type": "code",
   "execution_count": 1,
   "id": "0f7c6afd",
   "metadata": {},
   "outputs": [],
   "source": [
    "import lightkurve as lk\n",
    "import pandas as pd\n",
    "import numpy as np\n",
    "import pickle\n",
    "from sklearn.model_selection import train_test_split\n",
    "from astropy.timeseries import LombScargle\n",
    "from sklearn.preprocessing import StandardScaler"
   ]
  },
  {
   "cell_type": "code",
   "execution_count": 2,
   "id": "7c3cc677",
   "metadata": {},
   "outputs": [
    {
     "name": "stderr",
     "output_type": "stream",
     "text": [
      "Warning: 30% (5871/19412) of the cadences will be ignored due to the quality mask (quality_bitmask=175).\n",
      "Warning: 30% (5871/19412) of the cadences will be ignored due to the quality mask (quality_bitmask=175).\n",
      "Warning: 30% (5871/19412) of the cadences will be ignored due to the quality mask (quality_bitmask=175).\n",
      "Warning: 30% (5871/19412) of the cadences will be ignored due to the quality mask (quality_bitmask=175).\n",
      "Warning: 30% (5871/19412) of the cadences will be ignored due to the quality mask (quality_bitmask=175).\n",
      "Warning: 30% (5871/19412) of the cadences will be ignored due to the quality mask (quality_bitmask=175).\n",
      "Warning: 30% (5871/19412) of the cadences will be ignored due to the quality mask (quality_bitmask=175).\n",
      "Warning: 30% (5871/19412) of the cadences will be ignored due to the quality mask (quality_bitmask=175).\n",
      "Warning: 30% (5871/19412) of the cadences will be ignored due to the quality mask (quality_bitmask=175).\n",
      "Warning: 30% (5871/19412) of the cadences will be ignored due to the quality mask (quality_bitmask=175).\n",
      "Warning: 30% (5871/19412) of the cadences will be ignored due to the quality mask (quality_bitmask=175).\n",
      "Warning: 30% (5871/19412) of the cadences will be ignored due to the quality mask (quality_bitmask=175).\n",
      "Warning: 30% (5871/19412) of the cadences will be ignored due to the quality mask (quality_bitmask=175).\n",
      "Warning: 30% (5871/19412) of the cadences will be ignored due to the quality mask (quality_bitmask=175).\n",
      "Warning: 30% (5871/19412) of the cadences will be ignored due to the quality mask (quality_bitmask=175).\n",
      "Warning: 30% (5871/19412) of the cadences will be ignored due to the quality mask (quality_bitmask=175).\n",
      "Warning: 30% (5871/19412) of the cadences will be ignored due to the quality mask (quality_bitmask=175).\n",
      "Warning: 30% (5871/19412) of the cadences will be ignored due to the quality mask (quality_bitmask=175).\n",
      "C:\\Users\\jcfis\\anaconda3\\Lib\\site-packages\\lightkurve\\lightcurve.py:1131: LightkurveWarning: The light curve appears to be zero-centered (median=-5.34e+00 electron / s +/- 1.49e+01 electron / s); `normalize()` will divide the light curve by a value close to zero, which is probably not what you want.\n",
      "  warnings.warn(\n",
      "C:\\Users\\jcfis\\anaconda3\\Lib\\site-packages\\lightkurve\\lightcurve.py:1142: LightkurveWarning: The light curve has a negative median flux (-5.34e+00 electron / s); `normalize()` will therefore divide by a negative number and invert the light curve, which is probablynot what you want\n",
      "  warnings.warn(\n",
      "Warning: 30% (5871/19412) of the cadences will be ignored due to the quality mask (quality_bitmask=175).\n",
      "Warning: 30% (5871/19412) of the cadences will be ignored due to the quality mask (quality_bitmask=175).\n",
      "Warning: 30% (5871/19412) of the cadences will be ignored due to the quality mask (quality_bitmask=175).\n",
      "Warning: 30% (5871/19412) of the cadences will be ignored due to the quality mask (quality_bitmask=175).\n",
      "Warning: 30% (5871/19412) of the cadences will be ignored due to the quality mask (quality_bitmask=175).\n",
      "Warning: 30% (5871/19412) of the cadences will be ignored due to the quality mask (quality_bitmask=175).\n",
      "Warning: 30% (5871/19412) of the cadences will be ignored due to the quality mask (quality_bitmask=175).\n",
      "Warning: 30% (5871/19412) of the cadences will be ignored due to the quality mask (quality_bitmask=175).\n",
      "Warning: 30% (5871/19412) of the cadences will be ignored due to the quality mask (quality_bitmask=175).\n",
      "Warning: 30% (5871/19412) of the cadences will be ignored due to the quality mask (quality_bitmask=175).\n",
      "C:\\Users\\jcfis\\anaconda3\\Lib\\site-packages\\lightkurve\\lightcurve.py:1131: LightkurveWarning: The light curve appears to be zero-centered (median=-1.00e+00 electron / s +/- 8.27e+00 electron / s); `normalize()` will divide the light curve by a value close to zero, which is probably not what you want.\n",
      "  warnings.warn(\n",
      "C:\\Users\\jcfis\\anaconda3\\Lib\\site-packages\\lightkurve\\lightcurve.py:1142: LightkurveWarning: The light curve has a negative median flux (-1.00e+00 electron / s); `normalize()` will therefore divide by a negative number and invert the light curve, which is probablynot what you want\n",
      "  warnings.warn(\n",
      "Warning: 30% (5871/19412) of the cadences will be ignored due to the quality mask (quality_bitmask=175).\n",
      "Warning: 30% (5871/19412) of the cadences will be ignored due to the quality mask (quality_bitmask=175).\n",
      "Warning: 30% (5871/19412) of the cadences will be ignored due to the quality mask (quality_bitmask=175).\n",
      "Warning: 30% (5871/19412) of the cadences will be ignored due to the quality mask (quality_bitmask=175).\n",
      "Warning: 30% (5871/19412) of the cadences will be ignored due to the quality mask (quality_bitmask=175).\n",
      "Warning: 30% (5871/19412) of the cadences will be ignored due to the quality mask (quality_bitmask=175).\n",
      "Warning: 30% (5871/19412) of the cadences will be ignored due to the quality mask (quality_bitmask=175).\n",
      "Warning: 30% (5871/19412) of the cadences will be ignored due to the quality mask (quality_bitmask=175).\n",
      "Warning: 30% (5871/19412) of the cadences will be ignored due to the quality mask (quality_bitmask=175).\n",
      "Warning: 30% (5871/19412) of the cadences will be ignored due to the quality mask (quality_bitmask=175).\n",
      "Warning: 30% (5871/19412) of the cadences will be ignored due to the quality mask (quality_bitmask=175).\n",
      "C:\\Users\\jcfis\\anaconda3\\Lib\\site-packages\\lightkurve\\lightcurve.py:1142: LightkurveWarning: The light curve has a negative median flux (-1.06e+06 electron / s); `normalize()` will therefore divide by a negative number and invert the light curve, which is probablynot what you want\n",
      "  warnings.warn(\n",
      "C:\\Users\\jcfis\\anaconda3\\Lib\\site-packages\\lightkurve\\lightcurve.py:1131: LightkurveWarning: The light curve appears to be zero-centered (median=-1.44e+00 electron / s +/- 7.36e+00 electron / s); `normalize()` will divide the light curve by a value close to zero, which is probably not what you want.\n",
      "  warnings.warn(\n",
      "C:\\Users\\jcfis\\anaconda3\\Lib\\site-packages\\lightkurve\\lightcurve.py:1142: LightkurveWarning: The light curve has a negative median flux (-1.44e+00 electron / s); `normalize()` will therefore divide by a negative number and invert the light curve, which is probablynot what you want\n",
      "  warnings.warn(\n",
      "Warning: 30% (5871/19412) of the cadences will be ignored due to the quality mask (quality_bitmask=175).\n",
      "Warning: 30% (5871/19412) of the cadences will be ignored due to the quality mask (quality_bitmask=175).\n",
      "C:\\Users\\jcfis\\anaconda3\\Lib\\site-packages\\lightkurve\\lightcurve.py:1131: LightkurveWarning: The light curve appears to be zero-centered (median=7.50e+00 electron / s +/- 4.82e+01 electron / s); `normalize()` will divide the light curve by a value close to zero, which is probably not what you want.\n",
      "  warnings.warn(\n",
      "C:\\Users\\jcfis\\anaconda3\\Lib\\site-packages\\astropy\\timeseries\\periodograms\\lombscargle\\_statistics.py:140: RuntimeWarning: overflow encountered in scalar power\n",
      "  return (1 - z) ** (0.5 * Nk)\n",
      "C:\\Users\\jcfis\\anaconda3\\Lib\\site-packages\\astropy\\timeseries\\periodograms\\lombscargle\\_statistics.py:251: RuntimeWarning: invalid value encountered in scalar power\n",
      "  return _gamma(NH) * W * (1 - Z) ** (0.5 * (NK - 1)) * np.sqrt(0.5 * NH * Z)\n",
      "C:\\Users\\jcfis\\anaconda3\\Lib\\site-packages\\lightkurve\\lightcurve.py:1131: LightkurveWarning: The light curve appears to be zero-centered (median=6.81e+00 electron / s +/- 3.02e+01 electron / s); `normalize()` will divide the light curve by a value close to zero, which is probably not what you want.\n",
      "  warnings.warn(\n",
      "C:\\Users\\jcfis\\anaconda3\\Lib\\site-packages\\astropy\\timeseries\\periodograms\\lombscargle\\_statistics.py:140: RuntimeWarning: invalid value encountered in scalar power\n",
      "  return (1 - z) ** (0.5 * Nk)\n",
      "C:\\Users\\jcfis\\anaconda3\\Lib\\site-packages\\lightkurve\\lightcurve.py:1131: LightkurveWarning: The light curve appears to be zero-centered (median=6.88e+00 electron / s +/- 3.14e+01 electron / s); `normalize()` will divide the light curve by a value close to zero, which is probably not what you want.\n",
      "  warnings.warn(\n",
      "Warning: 30% (5871/19412) of the cadences will be ignored due to the quality mask (quality_bitmask=175).\n",
      "Warning: 30% (5871/19412) of the cadences will be ignored due to the quality mask (quality_bitmask=175).\n"
     ]
    },
    {
     "name": "stderr",
     "output_type": "stream",
     "text": [
      "Warning: 30% (5871/19412) of the cadences will be ignored due to the quality mask (quality_bitmask=175).\n",
      "Warning: 30% (5871/19412) of the cadences will be ignored due to the quality mask (quality_bitmask=175).\n",
      "Warning: 30% (5871/19412) of the cadences will be ignored due to the quality mask (quality_bitmask=175).\n",
      "C:\\Users\\jcfis\\anaconda3\\Lib\\site-packages\\lightkurve\\lightcurve.py:1131: LightkurveWarning: The light curve appears to be zero-centered (median=4.88e+00 electron / s +/- 1.34e+01 electron / s); `normalize()` will divide the light curve by a value close to zero, which is probably not what you want.\n",
      "  warnings.warn(\n",
      "C:\\Users\\jcfis\\anaconda3\\Lib\\site-packages\\lightkurve\\lightcurve.py:1131: LightkurveWarning: The light curve appears to be zero-centered (median=1.20e+00 electron / s +/- 7.48e+00 electron / s); `normalize()` will divide the light curve by a value close to zero, which is probably not what you want.\n",
      "  warnings.warn(\n",
      "C:\\Users\\jcfis\\anaconda3\\Lib\\site-packages\\astropy\\timeseries\\periodograms\\lombscargle\\_statistics.py:140: RuntimeWarning: invalid value encountered in scalar power\n",
      "  return (1 - z) ** (0.5 * Nk)\n",
      "C:\\Users\\jcfis\\anaconda3\\Lib\\site-packages\\lightkurve\\lightcurve.py:1131: LightkurveWarning: The light curve appears to be zero-centered (median=1.11e+00 electron / s +/- 7.74e+00 electron / s); `normalize()` will divide the light curve by a value close to zero, which is probably not what you want.\n",
      "  warnings.warn(\n",
      "C:\\Users\\jcfis\\anaconda3\\Lib\\site-packages\\astropy\\timeseries\\periodograms\\lombscargle\\_statistics.py:251: RuntimeWarning: invalid value encountered in scalar power\n",
      "  return _gamma(NH) * W * (1 - Z) ** (0.5 * (NK - 1)) * np.sqrt(0.5 * NH * Z)\n",
      "Warning: 30% (5871/19412) of the cadences will be ignored due to the quality mask (quality_bitmask=175).\n",
      "Warning: 30% (5871/19412) of the cadences will be ignored due to the quality mask (quality_bitmask=175).\n",
      "Warning: 30% (5871/19412) of the cadences will be ignored due to the quality mask (quality_bitmask=175).\n"
     ]
    },
    {
     "name": "stdout",
     "output_type": "stream",
     "text": [
      "DONE!\n"
     ]
    }
   ],
   "source": [
    "file = pd.read_csv('Rafael_Sample.csv', sep=';')\n",
    "data_table = pd.DataFrame(columns=['p0', 'p1', 'p2', 'p3', 'p4', 'p5', 'p6', 'p7', 'p8', 'p9', 'fap', 'Class'])\n",
    "\n",
    "for i in range(len(file)):\n",
    "    search = lk.search_lightcurve(f'TIC {file.iloc[i, 0]}', author='SPOC', exptime=120)\n",
    "    for j in range(len(search)):\n",
    "        sector = search.mission[j][12:]\n",
    "        lc = search[j].download(download_dir='E:/lightkurve_fits/').normalize().remove_outliers(sigma=3.5)\n",
    "        pg = lc.to_periodogram(maximum_frequency=50)\n",
    "        \n",
    "        # This block lists the power values and then order from the maximum value\n",
    "        df_pg_tab = pg.to_table().to_pandas()\n",
    "        table = df_pg_tab.filter(['power'])\n",
    "        df_ord_power = pd.DataFrame(data=sorted(table.power, reverse=True), columns=['ord_power'])\n",
    "        \n",
    "        # Calculating the False Alarm Probability (FAP)\n",
    "        time = lc.time\n",
    "        flux = lc.flux\n",
    "        fap = LombScargle(time, flux).false_alarm_probability(pg.max_power)*100\n",
    "        \n",
    "        # Inserting the data (power values, FAP and Classes) in the data_table\n",
    "        temp_tab = pd.DataFrame(data={'p0': df_ord_power.ord_power[0], 'p1':df_ord_power.ord_power[1], 'p2':df_ord_power.ord_power[2], 'p3':df_ord_power.ord_power[3], 'p4':df_ord_power.ord_power[4], 'p5':df_ord_power.ord_power[5], 'p6':df_ord_power.ord_power[6], 'p7':df_ord_power.ord_power[7], 'p8':df_ord_power.ord_power[8], 'p9':df_ord_power.ord_power[9], 'fap':fap.value, 'Class':file.iloc[i, 1]}, index=[f'{file.iloc[i, 0]}_{sector}'])\n",
    "        data_table = pd.concat([data_table, temp_tab], axis=0)\n",
    "        \n",
    "data_table = data_table.rename_axis('TIC_Sect').reset_index()\n",
    "#data_table\n",
    "print('DONE!')"
   ]
  },
  {
   "cell_type": "code",
   "execution_count": 3,
   "id": "6c5a69d7",
   "metadata": {},
   "outputs": [
    {
     "data": {
      "text/plain": [
       "(3969, 13)"
      ]
     },
     "execution_count": 3,
     "metadata": {},
     "output_type": "execute_result"
    }
   ],
   "source": [
    "data_table.shape"
   ]
  },
  {
   "cell_type": "markdown",
   "id": "e47cd766",
   "metadata": {},
   "source": [
    "# Dividing between predictors and class"
   ]
  },
  {
   "cell_type": "code",
   "execution_count": 4,
   "id": "3c2c6437",
   "metadata": {},
   "outputs": [
    {
     "data": {
      "text/plain": [
       "array([[1.79985823e-04, 1.69132726e-04, 1.58353399e-04, ...,\n",
       "        1.13186383e-04, 1.12843173e-04, 1.00000000e+02],\n",
       "       [2.19509067e-04, 2.13647452e-04, 1.92579572e-04, ...,\n",
       "        1.33448385e-04, 1.20786836e-04, 1.00000000e+02],\n",
       "       [1.98871520e-04, 1.91388494e-04, 1.78379292e-04, ...,\n",
       "        1.50431403e-04, 1.50349740e-04, 1.00000000e+02],\n",
       "       ...,\n",
       "       [1.28656969e-02, 1.24568537e-02, 1.14382554e-02, ...,\n",
       "        4.96552945e-03, 4.72904959e-03, 1.20502053e-42],\n",
       "       [7.72558167e-03, 7.19056966e-03, 7.09960231e-03, ...,\n",
       "        3.24531668e-03, 2.86948501e-03, 5.94441325e-20],\n",
       "       [8.20182033e-03, 8.05936936e-03, 7.07224529e-03, ...,\n",
       "        3.89585618e-03, 3.53043257e-03, 7.39884483e-18]])"
      ]
     },
     "execution_count": 4,
     "metadata": {},
     "output_type": "execute_result"
    }
   ],
   "source": [
    "x_param = data_table.iloc[:,1:12].values\n",
    "x_param"
   ]
  },
  {
   "cell_type": "code",
   "execution_count": 5,
   "id": "87de2579",
   "metadata": {},
   "outputs": [
    {
     "data": {
      "text/plain": [
       "array(['Noisy', 'Noisy', 'Noisy', ..., 'Var', 'Var', 'Var'], dtype=object)"
      ]
     },
     "execution_count": 5,
     "metadata": {},
     "output_type": "execute_result"
    }
   ],
   "source": [
    "y_param = data_table.iloc[:,12].values\n",
    "y_param"
   ]
  },
  {
   "cell_type": "markdown",
   "id": "a0f3292b",
   "metadata": {},
   "source": [
    "### ~ Attribute scaling"
   ]
  },
  {
   "cell_type": "code",
   "execution_count": 6,
   "id": "8d8a9882",
   "metadata": {},
   "outputs": [
    {
     "data": {
      "text/plain": [
       "array([[-0.09646576, -0.0960075 , -0.09715604, ..., -0.09714572,\n",
       "        -0.09651145,  0.84989482],\n",
       "       [-0.09582296, -0.09526503, -0.09653901, ..., -0.09656141,\n",
       "        -0.09627526,  0.84989482],\n",
       "       [-0.0961586 , -0.09563629, -0.09679502, ..., -0.09607165,\n",
       "        -0.09539627,  0.84989482],\n",
       "       ...,\n",
       "       [ 0.10985303,  0.10894182,  0.10619831, ...,  0.04278615,\n",
       "         0.04074277, -1.24452966],\n",
       "       [ 0.02625485,  0.02110443,  0.02798096, ..., -0.00682135,\n",
       "        -0.01454789, -1.24452966],\n",
       "       [ 0.03400034,  0.03559531,  0.02748777, ...,  0.01193891,\n",
       "         0.00510414, -1.24452966]])"
      ]
     },
     "execution_count": 6,
     "metadata": {},
     "output_type": "execute_result"
    }
   ],
   "source": [
    "scaler = StandardScaler()\n",
    "x_param = scaler.fit_transform(x_param)\n",
    "x_param"
   ]
  },
  {
   "cell_type": "markdown",
   "id": "7975dc39",
   "metadata": {},
   "source": [
    "### ~ Dividing between training and test sample"
   ]
  },
  {
   "cell_type": "code",
   "execution_count": 7,
   "id": "ed9591aa",
   "metadata": {},
   "outputs": [
    {
     "name": "stdout",
     "output_type": "stream",
     "text": [
      "(3373, 11) (3373,)\n",
      "(596, 11) (596,)\n"
     ]
    }
   ],
   "source": [
    "x_train, x_test, y_train, y_test = train_test_split(x_param, y_param, test_size=0.15)\n",
    "print(x_train.shape, y_train.shape)\n",
    "print(x_test.shape, y_test.shape)"
   ]
  },
  {
   "cell_type": "markdown",
   "id": "d7cdd8fe",
   "metadata": {},
   "source": [
    "# Saving data"
   ]
  },
  {
   "cell_type": "code",
   "execution_count": 8,
   "id": "dd1c819b",
   "metadata": {},
   "outputs": [],
   "source": [
    "with open('Rafael_data.pkl', 'wb') as file:\n",
    "    pickle.dump([x_train, y_train, x_test, y_test], file)"
   ]
  },
  {
   "cell_type": "code",
   "execution_count": null,
   "id": "d560e330",
   "metadata": {},
   "outputs": [],
   "source": []
  }
 ],
 "metadata": {
  "kernelspec": {
   "display_name": "Python 3 (ipykernel)",
   "language": "python",
   "name": "python3"
  },
  "language_info": {
   "codemirror_mode": {
    "name": "ipython",
    "version": 3
   },
   "file_extension": ".py",
   "mimetype": "text/x-python",
   "name": "python",
   "nbconvert_exporter": "python",
   "pygments_lexer": "ipython3",
   "version": "3.11.5"
  }
 },
 "nbformat": 4,
 "nbformat_minor": 5
}
