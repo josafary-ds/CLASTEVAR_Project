{
 "cells": [
  {
   "cell_type": "code",
   "execution_count": 1,
   "id": "be7e385c",
   "metadata": {},
   "outputs": [],
   "source": [
    "import pandas as pd\n",
    "import numpy as np\n",
    "import matplotlib.pyplot as plt\n",
    "import pickle\n",
    "from sklearn.ensemble import RandomForestClassifier\n",
    "from sklearn.svm import SVC\n",
    "from sklearn.linear_model import LogisticRegression\n",
    "from sklearn.metrics import accuracy_score, classification_report\n",
    "from yellowbrick.classifier import ConfusionMatrix"
   ]
  },
  {
   "cell_type": "markdown",
   "id": "adb64711",
   "metadata": {},
   "source": [
    "# Random Forest"
   ]
  },
  {
   "cell_type": "code",
   "execution_count": 2,
   "id": "a297170f",
   "metadata": {},
   "outputs": [],
   "source": [
    "with open('Rafael_data.pkl', 'rb') as file:\n",
    "    x_train, y_train, x_test, y_test = pickle.load(file)"
   ]
  },
  {
   "cell_type": "code",
   "execution_count": 4,
   "id": "654892f8",
   "metadata": {},
   "outputs": [
    {
     "ename": "ValueError",
     "evalue": "Input X contains NaN.\nRandomForestClassifier does not accept missing values encoded as NaN natively. For supervised learning, you might want to consider sklearn.ensemble.HistGradientBoostingClassifier and Regressor which accept missing values encoded as NaNs natively. Alternatively, it is possible to preprocess the data, for instance by using an imputer transformer in a pipeline or drop samples with missing values. See https://scikit-learn.org/stable/modules/impute.html You can find a list of all estimators that handle NaN values at the following page: https://scikit-learn.org/stable/modules/impute.html#estimators-that-handle-nan-values",
     "output_type": "error",
     "traceback": [
      "\u001b[1;31m---------------------------------------------------------------------------\u001b[0m",
      "\u001b[1;31mValueError\u001b[0m                                Traceback (most recent call last)",
      "Cell \u001b[1;32mIn[4], line 2\u001b[0m\n\u001b[0;32m      1\u001b[0m rf \u001b[38;5;241m=\u001b[39m RandomForestClassifier(n_estimators\u001b[38;5;241m=\u001b[39m\u001b[38;5;241m50\u001b[39m, criterion\u001b[38;5;241m=\u001b[39m\u001b[38;5;124m'\u001b[39m\u001b[38;5;124mentropy\u001b[39m\u001b[38;5;124m'\u001b[39m)\n\u001b[1;32m----> 2\u001b[0m rf\u001b[38;5;241m.\u001b[39mfit(x_train, y_train)\n",
      "File \u001b[1;32m~\\anaconda3\\Lib\\site-packages\\sklearn\\base.py:1151\u001b[0m, in \u001b[0;36m_fit_context.<locals>.decorator.<locals>.wrapper\u001b[1;34m(estimator, *args, **kwargs)\u001b[0m\n\u001b[0;32m   1144\u001b[0m     estimator\u001b[38;5;241m.\u001b[39m_validate_params()\n\u001b[0;32m   1146\u001b[0m \u001b[38;5;28;01mwith\u001b[39;00m config_context(\n\u001b[0;32m   1147\u001b[0m     skip_parameter_validation\u001b[38;5;241m=\u001b[39m(\n\u001b[0;32m   1148\u001b[0m         prefer_skip_nested_validation \u001b[38;5;129;01mor\u001b[39;00m global_skip_validation\n\u001b[0;32m   1149\u001b[0m     )\n\u001b[0;32m   1150\u001b[0m ):\n\u001b[1;32m-> 1151\u001b[0m     \u001b[38;5;28;01mreturn\u001b[39;00m fit_method(estimator, \u001b[38;5;241m*\u001b[39margs, \u001b[38;5;241m*\u001b[39m\u001b[38;5;241m*\u001b[39mkwargs)\n",
      "File \u001b[1;32m~\\anaconda3\\Lib\\site-packages\\sklearn\\ensemble\\_forest.py:348\u001b[0m, in \u001b[0;36mBaseForest.fit\u001b[1;34m(self, X, y, sample_weight)\u001b[0m\n\u001b[0;32m    346\u001b[0m \u001b[38;5;28;01mif\u001b[39;00m issparse(y):\n\u001b[0;32m    347\u001b[0m     \u001b[38;5;28;01mraise\u001b[39;00m \u001b[38;5;167;01mValueError\u001b[39;00m(\u001b[38;5;124m\"\u001b[39m\u001b[38;5;124msparse multilabel-indicator for y is not supported.\u001b[39m\u001b[38;5;124m\"\u001b[39m)\n\u001b[1;32m--> 348\u001b[0m X, y \u001b[38;5;241m=\u001b[39m \u001b[38;5;28mself\u001b[39m\u001b[38;5;241m.\u001b[39m_validate_data(\n\u001b[0;32m    349\u001b[0m     X, y, multi_output\u001b[38;5;241m=\u001b[39m\u001b[38;5;28;01mTrue\u001b[39;00m, accept_sparse\u001b[38;5;241m=\u001b[39m\u001b[38;5;124m\"\u001b[39m\u001b[38;5;124mcsc\u001b[39m\u001b[38;5;124m\"\u001b[39m, dtype\u001b[38;5;241m=\u001b[39mDTYPE\n\u001b[0;32m    350\u001b[0m )\n\u001b[0;32m    351\u001b[0m \u001b[38;5;28;01mif\u001b[39;00m sample_weight \u001b[38;5;129;01mis\u001b[39;00m \u001b[38;5;129;01mnot\u001b[39;00m \u001b[38;5;28;01mNone\u001b[39;00m:\n\u001b[0;32m    352\u001b[0m     sample_weight \u001b[38;5;241m=\u001b[39m _check_sample_weight(sample_weight, X)\n",
      "File \u001b[1;32m~\\anaconda3\\Lib\\site-packages\\sklearn\\base.py:621\u001b[0m, in \u001b[0;36mBaseEstimator._validate_data\u001b[1;34m(self, X, y, reset, validate_separately, cast_to_ndarray, **check_params)\u001b[0m\n\u001b[0;32m    619\u001b[0m         y \u001b[38;5;241m=\u001b[39m check_array(y, input_name\u001b[38;5;241m=\u001b[39m\u001b[38;5;124m\"\u001b[39m\u001b[38;5;124my\u001b[39m\u001b[38;5;124m\"\u001b[39m, \u001b[38;5;241m*\u001b[39m\u001b[38;5;241m*\u001b[39mcheck_y_params)\n\u001b[0;32m    620\u001b[0m     \u001b[38;5;28;01melse\u001b[39;00m:\n\u001b[1;32m--> 621\u001b[0m         X, y \u001b[38;5;241m=\u001b[39m check_X_y(X, y, \u001b[38;5;241m*\u001b[39m\u001b[38;5;241m*\u001b[39mcheck_params)\n\u001b[0;32m    622\u001b[0m     out \u001b[38;5;241m=\u001b[39m X, y\n\u001b[0;32m    624\u001b[0m \u001b[38;5;28;01mif\u001b[39;00m \u001b[38;5;129;01mnot\u001b[39;00m no_val_X \u001b[38;5;129;01mand\u001b[39;00m check_params\u001b[38;5;241m.\u001b[39mget(\u001b[38;5;124m\"\u001b[39m\u001b[38;5;124mensure_2d\u001b[39m\u001b[38;5;124m\"\u001b[39m, \u001b[38;5;28;01mTrue\u001b[39;00m):\n",
      "File \u001b[1;32m~\\anaconda3\\Lib\\site-packages\\sklearn\\utils\\validation.py:1147\u001b[0m, in \u001b[0;36mcheck_X_y\u001b[1;34m(X, y, accept_sparse, accept_large_sparse, dtype, order, copy, force_all_finite, ensure_2d, allow_nd, multi_output, ensure_min_samples, ensure_min_features, y_numeric, estimator)\u001b[0m\n\u001b[0;32m   1142\u001b[0m         estimator_name \u001b[38;5;241m=\u001b[39m _check_estimator_name(estimator)\n\u001b[0;32m   1143\u001b[0m     \u001b[38;5;28;01mraise\u001b[39;00m \u001b[38;5;167;01mValueError\u001b[39;00m(\n\u001b[0;32m   1144\u001b[0m         \u001b[38;5;124mf\u001b[39m\u001b[38;5;124m\"\u001b[39m\u001b[38;5;132;01m{\u001b[39;00mestimator_name\u001b[38;5;132;01m}\u001b[39;00m\u001b[38;5;124m requires y to be passed, but the target y is None\u001b[39m\u001b[38;5;124m\"\u001b[39m\n\u001b[0;32m   1145\u001b[0m     )\n\u001b[1;32m-> 1147\u001b[0m X \u001b[38;5;241m=\u001b[39m check_array(\n\u001b[0;32m   1148\u001b[0m     X,\n\u001b[0;32m   1149\u001b[0m     accept_sparse\u001b[38;5;241m=\u001b[39maccept_sparse,\n\u001b[0;32m   1150\u001b[0m     accept_large_sparse\u001b[38;5;241m=\u001b[39maccept_large_sparse,\n\u001b[0;32m   1151\u001b[0m     dtype\u001b[38;5;241m=\u001b[39mdtype,\n\u001b[0;32m   1152\u001b[0m     order\u001b[38;5;241m=\u001b[39morder,\n\u001b[0;32m   1153\u001b[0m     copy\u001b[38;5;241m=\u001b[39mcopy,\n\u001b[0;32m   1154\u001b[0m     force_all_finite\u001b[38;5;241m=\u001b[39mforce_all_finite,\n\u001b[0;32m   1155\u001b[0m     ensure_2d\u001b[38;5;241m=\u001b[39mensure_2d,\n\u001b[0;32m   1156\u001b[0m     allow_nd\u001b[38;5;241m=\u001b[39mallow_nd,\n\u001b[0;32m   1157\u001b[0m     ensure_min_samples\u001b[38;5;241m=\u001b[39mensure_min_samples,\n\u001b[0;32m   1158\u001b[0m     ensure_min_features\u001b[38;5;241m=\u001b[39mensure_min_features,\n\u001b[0;32m   1159\u001b[0m     estimator\u001b[38;5;241m=\u001b[39mestimator,\n\u001b[0;32m   1160\u001b[0m     input_name\u001b[38;5;241m=\u001b[39m\u001b[38;5;124m\"\u001b[39m\u001b[38;5;124mX\u001b[39m\u001b[38;5;124m\"\u001b[39m,\n\u001b[0;32m   1161\u001b[0m )\n\u001b[0;32m   1163\u001b[0m y \u001b[38;5;241m=\u001b[39m _check_y(y, multi_output\u001b[38;5;241m=\u001b[39mmulti_output, y_numeric\u001b[38;5;241m=\u001b[39my_numeric, estimator\u001b[38;5;241m=\u001b[39mestimator)\n\u001b[0;32m   1165\u001b[0m check_consistent_length(X, y)\n",
      "File \u001b[1;32m~\\anaconda3\\Lib\\site-packages\\sklearn\\utils\\validation.py:959\u001b[0m, in \u001b[0;36mcheck_array\u001b[1;34m(array, accept_sparse, accept_large_sparse, dtype, order, copy, force_all_finite, ensure_2d, allow_nd, ensure_min_samples, ensure_min_features, estimator, input_name)\u001b[0m\n\u001b[0;32m    953\u001b[0m         \u001b[38;5;28;01mraise\u001b[39;00m \u001b[38;5;167;01mValueError\u001b[39;00m(\n\u001b[0;32m    954\u001b[0m             \u001b[38;5;124m\"\u001b[39m\u001b[38;5;124mFound array with dim \u001b[39m\u001b[38;5;132;01m%d\u001b[39;00m\u001b[38;5;124m. \u001b[39m\u001b[38;5;132;01m%s\u001b[39;00m\u001b[38;5;124m expected <= 2.\u001b[39m\u001b[38;5;124m\"\u001b[39m\n\u001b[0;32m    955\u001b[0m             \u001b[38;5;241m%\u001b[39m (array\u001b[38;5;241m.\u001b[39mndim, estimator_name)\n\u001b[0;32m    956\u001b[0m         )\n\u001b[0;32m    958\u001b[0m     \u001b[38;5;28;01mif\u001b[39;00m force_all_finite:\n\u001b[1;32m--> 959\u001b[0m         _assert_all_finite(\n\u001b[0;32m    960\u001b[0m             array,\n\u001b[0;32m    961\u001b[0m             input_name\u001b[38;5;241m=\u001b[39minput_name,\n\u001b[0;32m    962\u001b[0m             estimator_name\u001b[38;5;241m=\u001b[39mestimator_name,\n\u001b[0;32m    963\u001b[0m             allow_nan\u001b[38;5;241m=\u001b[39mforce_all_finite \u001b[38;5;241m==\u001b[39m \u001b[38;5;124m\"\u001b[39m\u001b[38;5;124mallow-nan\u001b[39m\u001b[38;5;124m\"\u001b[39m,\n\u001b[0;32m    964\u001b[0m         )\n\u001b[0;32m    966\u001b[0m \u001b[38;5;28;01mif\u001b[39;00m ensure_min_samples \u001b[38;5;241m>\u001b[39m \u001b[38;5;241m0\u001b[39m:\n\u001b[0;32m    967\u001b[0m     n_samples \u001b[38;5;241m=\u001b[39m _num_samples(array)\n",
      "File \u001b[1;32m~\\anaconda3\\Lib\\site-packages\\sklearn\\utils\\validation.py:124\u001b[0m, in \u001b[0;36m_assert_all_finite\u001b[1;34m(X, allow_nan, msg_dtype, estimator_name, input_name)\u001b[0m\n\u001b[0;32m    121\u001b[0m \u001b[38;5;28;01mif\u001b[39;00m first_pass_isfinite:\n\u001b[0;32m    122\u001b[0m     \u001b[38;5;28;01mreturn\u001b[39;00m\n\u001b[1;32m--> 124\u001b[0m _assert_all_finite_element_wise(\n\u001b[0;32m    125\u001b[0m     X,\n\u001b[0;32m    126\u001b[0m     xp\u001b[38;5;241m=\u001b[39mxp,\n\u001b[0;32m    127\u001b[0m     allow_nan\u001b[38;5;241m=\u001b[39mallow_nan,\n\u001b[0;32m    128\u001b[0m     msg_dtype\u001b[38;5;241m=\u001b[39mmsg_dtype,\n\u001b[0;32m    129\u001b[0m     estimator_name\u001b[38;5;241m=\u001b[39mestimator_name,\n\u001b[0;32m    130\u001b[0m     input_name\u001b[38;5;241m=\u001b[39minput_name,\n\u001b[0;32m    131\u001b[0m )\n",
      "File \u001b[1;32m~\\anaconda3\\Lib\\site-packages\\sklearn\\utils\\validation.py:173\u001b[0m, in \u001b[0;36m_assert_all_finite_element_wise\u001b[1;34m(X, xp, allow_nan, msg_dtype, estimator_name, input_name)\u001b[0m\n\u001b[0;32m    156\u001b[0m \u001b[38;5;28;01mif\u001b[39;00m estimator_name \u001b[38;5;129;01mand\u001b[39;00m input_name \u001b[38;5;241m==\u001b[39m \u001b[38;5;124m\"\u001b[39m\u001b[38;5;124mX\u001b[39m\u001b[38;5;124m\"\u001b[39m \u001b[38;5;129;01mand\u001b[39;00m has_nan_error:\n\u001b[0;32m    157\u001b[0m     \u001b[38;5;66;03m# Improve the error message on how to handle missing values in\u001b[39;00m\n\u001b[0;32m    158\u001b[0m     \u001b[38;5;66;03m# scikit-learn.\u001b[39;00m\n\u001b[0;32m    159\u001b[0m     msg_err \u001b[38;5;241m+\u001b[39m\u001b[38;5;241m=\u001b[39m (\n\u001b[0;32m    160\u001b[0m         \u001b[38;5;124mf\u001b[39m\u001b[38;5;124m\"\u001b[39m\u001b[38;5;130;01m\\n\u001b[39;00m\u001b[38;5;132;01m{\u001b[39;00mestimator_name\u001b[38;5;132;01m}\u001b[39;00m\u001b[38;5;124m does not accept missing values\u001b[39m\u001b[38;5;124m\"\u001b[39m\n\u001b[0;32m    161\u001b[0m         \u001b[38;5;124m\"\u001b[39m\u001b[38;5;124m encoded as NaN natively. For supervised learning, you might want\u001b[39m\u001b[38;5;124m\"\u001b[39m\n\u001b[1;32m   (...)\u001b[0m\n\u001b[0;32m    171\u001b[0m         \u001b[38;5;124m\"\u001b[39m\u001b[38;5;124m#estimators-that-handle-nan-values\u001b[39m\u001b[38;5;124m\"\u001b[39m\n\u001b[0;32m    172\u001b[0m     )\n\u001b[1;32m--> 173\u001b[0m \u001b[38;5;28;01mraise\u001b[39;00m \u001b[38;5;167;01mValueError\u001b[39;00m(msg_err)\n",
      "\u001b[1;31mValueError\u001b[0m: Input X contains NaN.\nRandomForestClassifier does not accept missing values encoded as NaN natively. For supervised learning, you might want to consider sklearn.ensemble.HistGradientBoostingClassifier and Regressor which accept missing values encoded as NaNs natively. Alternatively, it is possible to preprocess the data, for instance by using an imputer transformer in a pipeline or drop samples with missing values. See https://scikit-learn.org/stable/modules/impute.html You can find a list of all estimators that handle NaN values at the following page: https://scikit-learn.org/stable/modules/impute.html#estimators-that-handle-nan-values"
     ]
    }
   ],
   "source": [
    "rf = RandomForestClassifier(n_estimators=50, criterion='entropy')\n",
    "rf.fit(x_train, y_train)"
   ]
  },
  {
   "cell_type": "code",
   "execution_count": 6,
   "id": "8b390cab",
   "metadata": {},
   "outputs": [],
   "source": [
    "rf_test = pd.read_pickle('Rafael_data.pkl')"
   ]
  },
  {
   "cell_type": "code",
   "execution_count": 9,
   "id": "e270ca27",
   "metadata": {},
   "outputs": [
    {
     "data": {
      "text/plain": [
       "[array([[-0.09150763, -0.0909397 , -0.09184898, ..., -0.09013681,\n",
       "         -0.08960764,  0.84989482],\n",
       "        [-0.08962515, -0.08943019, -0.09019161, ..., -0.08980651,\n",
       "         -0.08895144,  0.84989482],\n",
       "        [-0.09831637, -0.09775452, -0.09897119, ..., -0.09926116,\n",
       "         -0.09876552,  0.84989482],\n",
       "        ...,\n",
       "        [-0.09419975, -0.09384724, -0.09482966, ..., -0.09347146,\n",
       "         -0.09308876,  0.84989482],\n",
       "        [-0.09568194, -0.09503005, -0.09593128, ..., -0.09537738,\n",
       "         -0.09496822,  0.84989482],\n",
       "        [-0.09303756, -0.09239753, -0.09332319, ..., -0.0917267 ,\n",
       "         -0.09094241,  0.84989482]]),\n",
       " array(['Noisy', 'Noisy', 'Noisy', ..., 'Noisy', 'Noisy', 'Noisy'],\n",
       "       dtype=object),\n",
       " array([[ 0.03867983,  0.04209522,  0.03135882, ..., -0.0109973 ,\n",
       "         -0.01065668, -1.24452966],\n",
       "        [-0.06041482, -0.06140691, -0.05982684, ..., -0.0806238 ,\n",
       "         -0.07955652, -1.24380619],\n",
       "        [-0.08833982, -0.08840368, -0.08883651, ..., -0.08702444,\n",
       "         -0.08675623,  0.84989482],\n",
       "        ...,\n",
       "        [-0.09642171, -0.09582578, -0.09698732, ..., -0.09578502,\n",
       "         -0.09510632,  0.84989482],\n",
       "        [-0.09137743, -0.09063133, -0.09118441, ..., -0.0882848 ,\n",
       "         -0.08742317,  0.84989482],\n",
       "        [-0.09670166, -0.09627712, -0.09725667, ..., -0.09657193,\n",
       "         -0.09610171,  0.84989482]]),\n",
       " array(['Var', 'Var', 'Var', 'Noisy', 'Noisy', 'Noisy', 'Noisy', 'Noisy',\n",
       "        'Noisy', 'Var', 'Noisy', 'Noisy', 'Noisy', 'Noisy', 'Var', 'Noisy',\n",
       "        'Noisy', 'Var', 'Var', 'Noisy', 'Var', 'Noisy', 'Noisy', 'Noisy',\n",
       "        'Noisy', 'Var', 'Noisy', 'Noisy', 'Noisy', 'Noisy', 'Noisy', 'Var',\n",
       "        'Var', 'Noisy', 'Noisy', 'Var', 'Noisy', 'Noisy', 'Var', 'Noisy',\n",
       "        'Noisy', 'Var', 'Noisy', 'Var', 'Var', 'Noisy', 'Noisy', 'Var',\n",
       "        'Noisy', 'Noisy', 'Noisy', 'Var', 'Noisy', 'Noisy', 'Var', 'Noisy',\n",
       "        'Noisy', 'Noisy', 'Noisy', 'Noisy', 'Noisy', 'Var', 'Var', 'Var',\n",
       "        'Noisy', 'Var', 'Noisy', 'Noisy', 'Noisy', 'Var', 'Var', 'Noisy',\n",
       "        'Noisy', 'Noisy', 'Noisy', 'Var', 'Noisy', 'Var', 'Noisy', 'Noisy',\n",
       "        'Noisy', 'Var', 'Noisy', 'Var', 'Var', 'Noisy', 'Noisy', 'Noisy',\n",
       "        'Noisy', 'Var', 'Var', 'Var', 'Var', 'Var', 'Var', 'Noisy', 'Var',\n",
       "        'Var', 'Noisy', 'Noisy', 'Noisy', 'Noisy', 'Noisy', 'Noisy', 'Var',\n",
       "        'Var', 'Noisy', 'Noisy', 'Noisy', 'Var', 'Var', 'Var', 'Noisy',\n",
       "        'Noisy', 'Var', 'Var', 'Noisy', 'Noisy', 'Noisy', 'Noisy', 'Noisy',\n",
       "        'Noisy', 'Noisy', 'Noisy', 'Noisy', 'Noisy', 'Noisy', 'Noisy',\n",
       "        'Var', 'Var', 'Noisy', 'Noisy', 'Noisy', 'Noisy', 'Noisy', 'Var',\n",
       "        'Noisy', 'Var', 'Var', 'Var', 'Noisy', 'Var', 'Var', 'Noisy',\n",
       "        'Noisy', 'Noisy', 'Var', 'Var', 'Var', 'Noisy', 'Noisy', 'Var',\n",
       "        'Noisy', 'Noisy', 'Noisy', 'Noisy', 'Noisy', 'Noisy', 'Noisy',\n",
       "        'Var', 'Var', 'Noisy', 'Noisy', 'Noisy', 'Noisy', 'Var', 'Noisy',\n",
       "        'Noisy', 'Var', 'Var', 'Noisy', 'Noisy', 'Noisy', 'Var', 'Noisy',\n",
       "        'Noisy', 'Var', 'Noisy', 'Var', 'Noisy', 'Noisy', 'Var', 'Noisy',\n",
       "        'Var', 'Noisy', 'Noisy', 'Noisy', 'Noisy', 'Noisy', 'Var', 'Noisy',\n",
       "        'Noisy', 'Var', 'Var', 'Noisy', 'Noisy', 'Noisy', 'Noisy', 'Var',\n",
       "        'Var', 'Noisy', 'Noisy', 'Noisy', 'Noisy', 'Noisy', 'Noisy',\n",
       "        'Noisy', 'Noisy', 'Noisy', 'Var', 'Noisy', 'Noisy', 'Var', 'Noisy',\n",
       "        'Var', 'Var', 'Var', 'Noisy', 'Noisy', 'Noisy', 'Noisy', 'Noisy',\n",
       "        'Noisy', 'Noisy', 'Noisy', 'Noisy', 'Var', 'Noisy', 'Noisy', 'Var',\n",
       "        'Var', 'Var', 'Noisy', 'Noisy', 'Noisy', 'Noisy', 'Noisy', 'Var',\n",
       "        'Noisy', 'Noisy', 'Noisy', 'Noisy', 'Var', 'Noisy', 'Noisy', 'Var',\n",
       "        'Noisy', 'Noisy', 'Var', 'Noisy', 'Var', 'Var', 'Var', 'Noisy',\n",
       "        'Noisy', 'Noisy', 'Var', 'Noisy', 'Var', 'Noisy', 'Noisy', 'Noisy',\n",
       "        'Noisy', 'Noisy', 'Noisy', 'Noisy', 'Noisy', 'Noisy', 'Noisy',\n",
       "        'Noisy', 'Noisy', 'Noisy', 'Var', 'Noisy', 'Noisy', 'Noisy', 'Var',\n",
       "        'Var', 'Noisy', 'Noisy', 'Var', 'Var', 'Noisy', 'Noisy', 'Noisy',\n",
       "        'Noisy', 'Var', 'Var', 'Noisy', 'Noisy', 'Noisy', 'Var', 'Var',\n",
       "        'Var', 'Var', 'Var', 'Var', 'Noisy', 'Var', 'Noisy', 'Noisy',\n",
       "        'Noisy', 'Noisy', 'Var', 'Var', 'Noisy', 'Noisy', 'Var', 'Noisy',\n",
       "        'Noisy', 'Var', 'Noisy', 'Noisy', 'Noisy', 'Noisy', 'Var', 'Var',\n",
       "        'Noisy', 'Noisy', 'Var', 'Noisy', 'Var', 'Var', 'Var', 'Noisy',\n",
       "        'Noisy', 'Var', 'Noisy', 'Var', 'Noisy', 'Noisy', 'Var', 'Var',\n",
       "        'Var', 'Noisy', 'Noisy', 'Noisy', 'Var', 'Noisy', 'Var', 'Var',\n",
       "        'Noisy', 'Var', 'Var', 'Noisy', 'Noisy', 'Var', 'Noisy', 'Noisy',\n",
       "        'Noisy', 'Var', 'Noisy', 'Noisy', 'Noisy', 'Var', 'Noisy', 'Noisy',\n",
       "        'Var', 'Var', 'Noisy', 'Noisy', 'Noisy', 'Var', 'Var', 'Noisy',\n",
       "        'Var', 'Noisy', 'Noisy', 'Noisy', 'Var', 'Var', 'Noisy', 'Noisy',\n",
       "        'Var', 'Noisy', 'Noisy', 'Var', 'Noisy', 'Noisy', 'Var', 'Var',\n",
       "        'Noisy', 'Noisy', 'Var', 'Noisy', 'Var', 'Noisy', 'Noisy', 'Noisy',\n",
       "        'Var', 'Noisy', 'Noisy', 'Noisy', 'Noisy', 'Noisy', 'Var', 'Var',\n",
       "        'Noisy', 'Noisy', 'Noisy', 'Noisy', 'Noisy', 'Noisy', 'Noisy',\n",
       "        'Noisy', 'Noisy', 'Var', 'Noisy', 'Noisy', 'Noisy', 'Noisy', 'Var',\n",
       "        'Noisy', 'Noisy', 'Var', 'Var', 'Noisy', 'Noisy', 'Noisy', 'Var',\n",
       "        'Noisy', 'Noisy', 'Noisy', 'Noisy', 'Noisy', 'Var', 'Noisy',\n",
       "        'Noisy', 'Noisy', 'Var', 'Noisy', 'Var', 'Var', 'Var', 'Noisy',\n",
       "        'Var', 'Var', 'Noisy', 'Noisy', 'Noisy', 'Noisy', 'Noisy', 'Var',\n",
       "        'Var', 'Var', 'Noisy', 'Var', 'Var', 'Noisy', 'Noisy', 'Var',\n",
       "        'Noisy', 'Noisy', 'Noisy', 'Var', 'Var', 'Noisy', 'Noisy', 'Var',\n",
       "        'Var', 'Var', 'Noisy', 'Var', 'Var', 'Var', 'Var', 'Var', 'Noisy',\n",
       "        'Noisy', 'Var', 'Noisy', 'Noisy', 'Noisy', 'Var', 'Noisy', 'Noisy',\n",
       "        'Var', 'Noisy', 'Var', 'Var', 'Var', 'Noisy', 'Var', 'Noisy',\n",
       "        'Noisy', 'Noisy', 'Var', 'Noisy', 'Noisy', 'Noisy', 'Noisy',\n",
       "        'Noisy', 'Noisy', 'Var', 'Var', 'Noisy', 'Noisy', 'Var', 'Var',\n",
       "        'Noisy', 'Noisy', 'Noisy', 'Var', 'Var', 'Var', 'Noisy', 'Var',\n",
       "        'Noisy', 'Noisy', 'Noisy', 'Var', 'Var', 'Noisy', 'Noisy', 'Var',\n",
       "        'Var', 'Noisy', 'Noisy', 'Noisy', 'Noisy', 'Var', 'Var', 'Var',\n",
       "        'Noisy', 'Noisy', 'Var', 'Var', 'Var', 'Noisy', 'Var', 'Noisy',\n",
       "        'Noisy', 'Noisy', 'Noisy', 'Noisy', 'Var', 'Var', 'Noisy', 'Noisy',\n",
       "        'Noisy', 'Noisy', 'Noisy', 'Var', 'Noisy', 'Noisy', 'Var', 'Noisy',\n",
       "        'Noisy', 'Noisy', 'Noisy', 'Noisy', 'Noisy', 'Noisy', 'Var',\n",
       "        'Noisy', 'Var', 'Noisy', 'Noisy', 'Noisy', 'Noisy', 'Noisy',\n",
       "        'Noisy', 'Var', 'Noisy', 'Noisy', 'Noisy', 'Noisy', 'Var', 'Noisy',\n",
       "        'Noisy', 'Noisy', 'Noisy', 'Noisy', 'Var', 'Noisy', 'Var', 'Var',\n",
       "        'Noisy', 'Noisy', 'Noisy', 'Var', 'Noisy', 'Noisy', 'Noisy',\n",
       "        'Noisy', 'Noisy', 'Noisy', 'Var', 'Noisy', 'Var', 'Noisy', 'Var',\n",
       "        'Noisy', 'Noisy', 'Noisy', 'Var'], dtype=object)]"
      ]
     },
     "execution_count": 9,
     "metadata": {},
     "output_type": "execute_result"
    }
   ],
   "source": [
    "rf_test.is"
   ]
  },
  {
   "cell_type": "code",
   "execution_count": null,
   "id": "c7bf4758",
   "metadata": {},
   "outputs": [],
   "source": []
  }
 ],
 "metadata": {
  "kernelspec": {
   "display_name": "Python 3 (ipykernel)",
   "language": "python",
   "name": "python3"
  },
  "language_info": {
   "codemirror_mode": {
    "name": "ipython",
    "version": 3
   },
   "file_extension": ".py",
   "mimetype": "text/x-python",
   "name": "python",
   "nbconvert_exporter": "python",
   "pygments_lexer": "ipython3",
   "version": "3.11.5"
  }
 },
 "nbformat": 4,
 "nbformat_minor": 5
}
